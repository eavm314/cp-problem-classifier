{
 "cells": [
  {
   "cell_type": "code",
   "execution_count": 310,
   "metadata": {},
   "outputs": [
    {
     "data": {
      "text/html": [
       "<div>\n",
       "<style scoped>\n",
       "    .dataframe tbody tr th:only-of-type {\n",
       "        vertical-align: middle;\n",
       "    }\n",
       "\n",
       "    .dataframe tbody tr th {\n",
       "        vertical-align: top;\n",
       "    }\n",
       "\n",
       "    .dataframe thead th {\n",
       "        text-align: right;\n",
       "    }\n",
       "</style>\n",
       "<table border=\"1\" class=\"dataframe\">\n",
       "  <thead>\n",
       "    <tr style=\"text-align: right;\">\n",
       "      <th></th>\n",
       "      <th>Text</th>\n",
       "      <th>label_A</th>\n",
       "      <th>label_B</th>\n",
       "      <th>label_C</th>\n",
       "      <th>label_D</th>\n",
       "      <th>label_E</th>\n",
       "    </tr>\n",
       "  </thead>\n",
       "  <tbody>\n",
       "    <tr>\n",
       "      <th>0</th>\n",
       "      <td>social current-based zebra-striped radiation d...</td>\n",
       "      <td>0</td>\n",
       "      <td>1</td>\n",
       "      <td>0</td>\n",
       "      <td>1</td>\n",
       "      <td>0</td>\n",
       "    </tr>\n",
       "    <tr>\n",
       "      <th>1</th>\n",
       "      <td>bit-sized prognosis passporting rhyme networke...</td>\n",
       "      <td>0</td>\n",
       "      <td>0</td>\n",
       "      <td>0</td>\n",
       "      <td>1</td>\n",
       "      <td>1</td>\n",
       "    </tr>\n",
       "    <tr>\n",
       "      <th>2</th>\n",
       "      <td>dog plankton vision-based hawked endocrine sce...</td>\n",
       "      <td>0</td>\n",
       "      <td>0</td>\n",
       "      <td>1</td>\n",
       "      <td>0</td>\n",
       "      <td>0</td>\n",
       "    </tr>\n",
       "    <tr>\n",
       "      <th>3</th>\n",
       "      <td>resistive socialize atom spam story microbes s...</td>\n",
       "      <td>0</td>\n",
       "      <td>0</td>\n",
       "      <td>1</td>\n",
       "      <td>0</td>\n",
       "      <td>1</td>\n",
       "    </tr>\n",
       "    <tr>\n",
       "      <th>4</th>\n",
       "      <td>belief book behavior carp grammar annotated el...</td>\n",
       "      <td>0</td>\n",
       "      <td>1</td>\n",
       "      <td>1</td>\n",
       "      <td>1</td>\n",
       "      <td>1</td>\n",
       "    </tr>\n",
       "  </tbody>\n",
       "</table>\n",
       "</div>"
      ],
      "text/plain": [
       "                                                Text  label_A  label_B  \\\n",
       "0  social current-based zebra-striped radiation d...        0        1   \n",
       "1  bit-sized prognosis passporting rhyme networke...        0        0   \n",
       "2  dog plankton vision-based hawked endocrine sce...        0        0   \n",
       "3  resistive socialize atom spam story microbes s...        0        0   \n",
       "4  belief book behavior carp grammar annotated el...        0        1   \n",
       "\n",
       "   label_C  label_D  label_E  \n",
       "0        0        1        0  \n",
       "1        0        1        1  \n",
       "2        1        0        0  \n",
       "3        1        0        1  \n",
       "4        1        1        1  "
      ]
     },
     "execution_count": 310,
     "metadata": {},
     "output_type": "execute_result"
    }
   ],
   "source": [
    "import random\n",
    "import pandas as pd\n",
    "import numpy as np\n",
    "import tensorflow as tf\n",
    "\n",
    "# Define the labels\n",
    "labels = ['label_A', 'label_B', 'label_C', 'label_D', 'label_E']\n",
    "\n",
    "# Define some example words to build sentences\n",
    "words = [\n",
    "    \"algorithm\", \"biology\", \"neural\", \"protein\", \"derivative\", \"matrix\", \"social\", \"theorem\", \"integration\", \"gravity\",\n",
    "    \"tourism\", \"planet\", \"cell\", \"equation\", \"forest\", \"migration\", \"communication\", \"climate\", \"DNA\", \"evolution\",\n",
    "    \"justice\", \"law\", \"marketing\", \"sales\", \"philosophy\", \"tourist\", \"hotel\", \"reservation\", \"restaurant\", \"cuisine\",\n",
    "    \"culture\", \"museum\", \"aviation\", \"passport\", \"map\", \"ocean\", \"currency\", \"chef\", \"recipe\", \"ingredient\", \"airport\",\n",
    "    \"flight\", \"baggage\", \"explore\", \"adventure\", \"reservation\", \"population\", \"government\", \"democracy\", \"community\",\n",
    "    \"leader\", \"society\", \"family\", \"friendship\", \"travel\", \"vacation\", \"beach\", \"mountain\", \"city\", \"village\", \"wildlife\",\n",
    "    \"safari\", \"tiger\", \"elephant\", \"lion\", \"zebra\", \"giraffe\", \"habitat\", \"endangered\", \"conservation\", \"sustainability\",\n",
    "    \"renewable\", \"ecosystem\", \"rainforest\", \"savanna\", \"desert\", \"species\", \"biodiversity\", \"fish\", \"shark\", \"whale\",\n",
    "    \"dolphin\", \"coral\", \"reef\", \"crustacean\", \"mammal\", \"reptile\", \"amphibian\", \"insect\", \"butterfly\", \"spider\", \"bird\",\n",
    "    \"eagle\", \"penguin\", \"hawk\", \"sparrow\", \"canary\", \"pelican\", \"seagull\", \"shark\", \"cat\", \"dog\", \"cow\", \"chicken\", \"pig\",\n",
    "    \"horse\", \"sheep\", \"goat\", \"rabbit\", \"squirrel\", \"wolf\", \"fox\", \"bear\", \"beaver\", \"otter\", \"snake\", \"lizard\", \"gecko\",\n",
    "    \"iguana\", \"frog\", \"turtle\", \"crocodile\", \"alligator\", \"fish\", \"trout\", \"salmon\", \"carp\", \"pike\", \"bass\", \"sardine\",\n",
    "    \"tuna\", \"herring\", \"cod\", \"mackerel\", \"oyster\", \"clam\", \"scallop\", \"lobster\", \"crab\", \"shrimp\", \"prawn\", \"squid\",\n",
    "    \"octopus\", \"jellyfish\", \"plankton\", \"algae\", \"kelp\", \"seaweed\", \"fungi\", \"bacteria\", \"virus\", \"microbe\", \"yeast\",\n",
    "    \"molecule\", \"atom\", \"electron\", \"proton\", \"neutron\", \"quark\", \"particle\", \"wave\", \"quantum\", \"photon\", \"nucleus\",\n",
    "    \"isotope\", \"energy\", \"force\", \"velocity\", \"momentum\", \"acceleration\", \"inertia\", \"friction\", \"gravity\", \"force\",\n",
    "    \"pressure\", \"temperature\", \"volume\", \"density\", \"mass\", \"weight\", \"light\", \"sound\", \"radiation\", \"magnetism\", \"electricity\",\n",
    "    \"current\", \"voltage\", \"resistance\", \"circuit\", \"capacitor\", \"inductor\", \"diode\", \"transistor\", \"semiconductor\", \"computer\",\n",
    "    \"processor\", \"memory\", \"hard\", \"disk\", \"drive\", \"byte\", \"bit\", \"gigabyte\", \"terabyte\", \"network\", \"internet\", \"protocol\",\n",
    "    \"bandwidth\", \"latency\", \"firewall\", \"encryption\", \"algorithm\", \"database\", \"query\", \"server\", \"client\", \"cloud\", \"storage\",\n",
    "    \"virtualization\", \"container\", \"docker\", \"kubernetes\", \"machine\", \"learning\", \"AI\", \"artificial\", \"intelligence\", \"deep\",\n",
    "    \"neural\", \"network\", \"supervised\", \"unsupervised\", \"reinforcement\", \"learning\", \"training\", \"testing\", \"dataset\", \"classification\",\n",
    "    \"regression\", \"prediction\", \"pattern\", \"recognition\", \"speech\", \"vision\", \"image\", \"processing\", \"text\", \"analysis\", \"natural\",\n",
    "    \"language\", \"processing\", \"tokenization\", \"embedding\", \"vector\", \"classification\", \"sentiment\", \"detection\", \"spam\", \"filtering\",\n",
    "    \"syntax\", \"semantics\", \"morphology\", \"phonetics\", \"grammar\", \"syntax\", \"lexicon\", \"corpus\", \"dataset\", \"annotation\", \"ground\",\n",
    "    \"truth\", \"speech\", \"recognition\", \"speech\", \"synthesis\", \"chatbot\", \"virtual\", \"assistant\", \"translation\", \"transcription\",\n",
    "    \"biomechanics\", \"kinetics\", \"motion\", \"dynamics\", \"forces\", \"torque\", \"pressure\", \"tension\", \"compression\", \"strain\", \"deformation\",\n",
    "    \"friction\", \"lubrication\", \"turbulence\", \"viscosity\", \"elasticity\", \"plasticity\", \"resilience\", \"fatigue\", \"fracture\", \"failure\",\n",
    "    \"impact\", \"collision\", \"vibration\", \"oscillation\", \"wave\", \"propagation\", \"sound\", \"acoustics\", \"auditory\", \"hearing\", \"speech\",\n",
    "    \"noise\", \"environment\", \"pollution\", \"greenhouse\", \"emission\", \"ozone\", \"atmosphere\", \"weather\", \"climate\", \"temperature\", \"humidity\",\n",
    "    \"precipitation\", \"wind\", \"hurricane\", \"storm\", \"flood\", \"drought\", \"lightning\", \"thunder\", \"earthquake\", \"volcano\", \"erosion\",\n",
    "    \"sedimentation\", \"glacier\", \"river\", \"lake\", \"ocean\", \"seabed\", \"water\", \"cycle\", \"rain\", \"snow\", \"hail\", \"fog\", \"mist\", \"dew\",\n",
    "    \"biology\", \"cell\", \"organism\", \"gene\", \"chromosome\", \"mutation\", \"adaptation\", \"species\", \"genus\", \"family\", \"order\", \"class\",\n",
    "    \"phylum\", \"kingdom\", \"ecosystem\", \"habitat\", \"niche\", \"symbiosis\", \"parasitism\", \"mutualism\", \"commensalism\", \"predator\", \"prey\",\n",
    "    \"scavenger\", \"decomposer\", \"fungus\", \"bacterium\", \"protozoan\", \"algae\", \"virus\", \"microbe\", \"antibiotic\", \"vaccine\", \"immunity\",\n",
    "    \"disease\", \"infection\", \"pandemic\", \"epidemic\", \"symptom\", \"treatment\", \"cure\", \"diagnosis\", \"prognosis\", \"recovery\", \"pain\",\n",
    "    \"fever\", \"inflammation\", \"infection\", \"immune\", \"system\", \"antigen\", \"antibody\", \"vaccination\", \"prevention\", \"nutrition\", \"diet\",\n",
    "    \"protein\", \"carbohydrate\", \"fat\", \"vitamin\", \"mineral\", \"water\", \"hydration\", \"fiber\", \"digestion\", \"metabolism\", \"calorie\", \"exercise\",\n",
    "    \"muscle\", \"bone\", \"joint\", \"ligament\", \"tendon\", \"cartilage\", \"nervous\", \"system\", \"neuron\", \"synapse\", \"axon\", \"dendrite\", \"reflex\",\n",
    "    \"hormone\", \"endocrine\", \"gland\", \"adrenaline\", \"insulin\", \"cortisol\", \"serotonin\", \"dopamine\", \"oxytocin\", \"memory\", \"cognition\",\n",
    "    \"consciousness\", \"emotion\", \"perception\", \"sensation\", \"attention\", \"thought\", \"idea\", \"concept\", \"belief\", \"value\", \"morality\",\n",
    "    \"ethics\", \"decision\", \"choice\", \"behavior\", \"action\", \"habit\", \"intelligence\", \"learning\", \"knowledge\", \"wisdom\", \"understanding\",\n",
    "    \"insight\", \"foresight\", \"creativity\", \"imagination\", \"art\", \"music\", \"painting\", \"sculpture\", \"literature\", \"poetry\", \"drama\",\n",
    "    \"theater\", \"dance\", \"performance\", \"cinema\", \"photography\", \"film\", \"director\", \"actor\", \"character\", \"plot\", \"scene\", \"narrative\",\n",
    "    \"novel\", \"story\", \"poem\", \"rhyme\", \"rhythm\", \"melody\", \"harmony\", \"instrument\", \"song\", \"voice\", \"chorus\", \"composer\", \"musician\",\n",
    "    \"band\", \"orchestra\", \"conductor\", \"performance\", \"concert\", \"festival\", \"stage\", \"audience\", \"ticket\", \"artwork\", \"gallery\",\n",
    "    \"exhibition\", \"museum\", \"painting\", \"sculpture\", \"installation\", \"drawing\", \"sketch\", \"ceramics\", \"pottery\", \"textile\", \"fashion\",\n",
    "    \"design\", \"style\", \"aesthetic\", \"trend\", \"brand\", \"marketing\", \"advertising\", \"promotion\", \"campaign\", \"product\", \"consumer\",\n",
    "    \"market\", \"economy\", \"finance\", \"investment\", \"bank\", \"loan\", \"interest\", \"mortgage\", \"stock\", \"bond\", \"share\", \"dividend\",\n",
    "    \"profit\", \"loss\", \"revenue\", \"income\", \"expense\", \"budget\", \"tax\", \"debt\", \"credit\", \"payment\", \"currency\", \"exchange\", \"inflation\",\n",
    "    \"deflation\", \"trade\", \"export\", \"import\", \"tariff\", \"quota\", \"subsidy\", \"regulation\", \"policy\", \"law\", \"justice\", \"court\", \"trial\",\n",
    "    \"jury\", \"judge\", \"lawyer\", \"contract\", \"agreement\", \"negotiation\", \"dispute\", \"resolution\", \"settlement\", \"arbitration\", \"mediation\",\n",
    "    \"algorithmic\", \"bioinformatics\", \"neuron\", \"proteomics\", \"derive\", \"deriving\", \"matrices\", \"socialize\", \"socializing\", \n",
    "    \"theoretical\", \"integrate\", \"integrating\", \"gravitational\", \"tourist\", \"planetary\", \"cellular\", \"equational\", \"forested\",\n",
    "    \"migratory\", \"communicate\", \"communicating\", \"climatic\", \"genetics\", \"evolutionary\", \"just\", \"lawful\", \"market\", \"sale\", \n",
    "    \"philosophical\", \"touristic\", \"hotelier\", \"book\", \"booking\", \"cook\", \"culinary\", \"cultural\", \"museological\", \"fly\", \n",
    "    \"aviator\", \"passporting\", \"mapping\", \"oceanic\", \"currencies\", \"chefing\", \"recipebook\", \"recipewriting\", \"ingredientlist\", \n",
    "    \"airporter\", \"flightless\", \"baggages\", \"explorer\", \"adventurous\", \"populating\", \"governmental\", \"democratic\", \n",
    "    \"community-driven\", \"leadership\", \"societal\", \"familial\", \"friend\", \"friendly\", \"traveling\", \"vacationing\", \"beachside\", \n",
    "    \"mountainous\", \"urban\", \"villager\", \"wild\", \"safariing\", \"striped\", \"elephantine\", \"lionesque\", \"zebra-striped\", \"giraffelike\", \n",
    "    \"habitats\", \"endanger\", \"conservational\", \"sustainable\", \"renew\", \"ecosystems\", \"rainforests\", \"savannah\", \"desertic\", \n",
    "    \"species-wide\", \"biodiverse\", \"fishing\", \"sharks\", \"whales\", \"dolphins\", \"corals\", \"reefs\", \"crustaceans\", \"mammalian\", \n",
    "    \"reptilian\", \"amphibious\", \"insects\", \"butterflies\", \"spiders\", \"birds\", \"eagled\", \"penguins\", \"hawked\", \"sparrows\", \n",
    "    \"canaries\", \"pelicans\", \"seagulls\", \"sharked\", \"cats\", \"dogs\", \"cattle\", \"chickens\", \"pigs\", \"horses\", \"sheeps\", \"goats\", \n",
    "    \"rabbits\", \"squirrels\", \"wolves\", \"foxes\", \"bears\", \"beavers\", \"otters\", \"snakes\", \"lizards\", \"geckos\", \"iguanas\", \"frogs\", \n",
    "    \"turtles\", \"crocodiles\", \"alligators\", \"fishers\", \"trouts\", \"salmons\", \"carps\", \"pikes\", \"basses\", \"sardines\", \"tunas\", \n",
    "    \"herrings\", \"cods\", \"mackerels\", \"oysters\", \"clams\", \"scallops\", \"lobsters\", \"crabs\", \"shrimps\", \"prawns\", \"squids\", \n",
    "    \"octopi\", \"jellyfishes\", \"planktons\", \"algal\", \"kelps\", \"seaweeds\", \"fungal\", \"bacterias\", \"viruses\", \"microbes\", \"yeasts\", \n",
    "    \"molecular\", \"atomic\", \"electronic\", \"protons\", \"neutrons\", \"quarks\", \"particulate\", \"waves\", \"quantum-based\", \"photons\", \n",
    "    \"nuclear\", \"isotopic\", \"energized\", \"velocity-based\", \"momentous\", \"accelerated\", \"inertial\", \"frictive\", \"gravitational-force\", \n",
    "    \"pressurized\", \"temperature-based\", \"volumetric\", \"densities\", \"massive\", \"weighted\", \"light-based\", \"sound-based\", \n",
    "    \"radiative\", \"magnetic\", \"electrically\", \"current-based\", \"voltaged\", \"resistive\", \"circuits\", \"capacitive\", \"inductive\", \n",
    "    \"diodes\", \"transistors\", \"semiconducting\", \"computational\", \"processor-based\", \"memory-based\", \"hard-drived\", \"disk-based\", \n",
    "    \"byte-sized\", \"bit-sized\", \"gigabytes\", \"terabytes\", \"networked\", \"internet-based\", \"protocol-driven\", \"bandwidth-based\", \n",
    "    \"latency-optimized\", \"firewalled\", \"encrypted\", \"algorithmically\", \"database-driven\", \"queried\", \"server-sided\", \"client-sided\", \n",
    "    \"cloud-computing\", \"storage-based\", \"virtualized\", \"containerized\", \"dockerized\", \"kubernetes-driven\", \"machine-learned\", \n",
    "    \"artificially\", \"deep-learned\", \"networked-neurons\", \"supervised-learning\", \"unsupervised-learning\", \"reinforced-learning\", \n",
    "    \"training-based\", \"testing-based\", \"dataset-based\", \"classification-based\", \"regressive\", \"predictive\", \"pattern-recognition\", \n",
    "    \"speech-recognition\", \"vision-based\", \"image-processing\", \"text-based\", \"analysis-driven\", \"natural-language\", \"tokenized\", \n",
    "    \"vectorized\", \"classification-labeled\", \"sentiment-analyzed\", \"spam-filtered\", \"syntaxed\", \"semantic-based\", \"morphed\", \n",
    "    \"phonetic-analysis\", \"grammar-driven\", \"lexical\", \"corpused\", \"annotated\", \"ground-truthed\", \"speech-synthesized\", \"chatbot-based\", \n",
    "    \"virtually-assistant\", \"translated\", \"transcribed\"\n",
    "]\n",
    "\n",
    "\n",
    "\n",
    "# Generate multilabel samples\n",
    "samples = []\n",
    "num_samples = 100\n",
    "\n",
    "for _ in range(num_samples):\n",
    "    # Randomly choose a sentence length between 10 and 100 words\n",
    "    text_length = random.randint(100, 400)\n",
    "    text = \" \".join(random.choices(words, k=text_length))\n",
    "    samples.append(text)\n",
    "\n",
    "# Create a DataFrame with texts and one-hot encoded labels\n",
    "df = pd.DataFrame(samples, columns=['Text'])\n",
    "for lb in labels:\n",
    "    df[lb] = np.random.randint(0, 2, size=(num_samples,))\n",
    "        \n",
    "# One-hot encode the labels\n",
    "# for label in labels:\n",
    "#     df[label] = df['Labels'].apply(lambda x: 1 if label in x else 0)\n",
    "\n",
    "# Drop the 'Labels' column (optional)\n",
    "# df = df.drop(columns=['Labels'])\n",
    "df.head()"
   ]
  },
  {
   "cell_type": "code",
   "execution_count": 311,
   "metadata": {},
   "outputs": [
    {
     "name": "stdout",
     "output_type": "stream",
     "text": [
      "tag_columns: ['label_A', 'label_B', 'label_C', 'label_D', 'label_E']\n",
      "tag_columns count: 5\n"
     ]
    },
    {
     "data": {
      "text/html": [
       "<div>\n",
       "<style scoped>\n",
       "    .dataframe tbody tr th:only-of-type {\n",
       "        vertical-align: middle;\n",
       "    }\n",
       "\n",
       "    .dataframe tbody tr th {\n",
       "        vertical-align: top;\n",
       "    }\n",
       "\n",
       "    .dataframe thead th {\n",
       "        text-align: right;\n",
       "    }\n",
       "</style>\n",
       "<table border=\"1\" class=\"dataframe\">\n",
       "  <thead>\n",
       "    <tr style=\"text-align: right;\">\n",
       "      <th></th>\n",
       "      <th>label_A</th>\n",
       "      <th>label_B</th>\n",
       "      <th>label_C</th>\n",
       "      <th>label_D</th>\n",
       "      <th>label_E</th>\n",
       "    </tr>\n",
       "  </thead>\n",
       "  <tbody>\n",
       "    <tr>\n",
       "      <th>0</th>\n",
       "      <td>0</td>\n",
       "      <td>1</td>\n",
       "      <td>0</td>\n",
       "      <td>1</td>\n",
       "      <td>0</td>\n",
       "    </tr>\n",
       "    <tr>\n",
       "      <th>1</th>\n",
       "      <td>0</td>\n",
       "      <td>0</td>\n",
       "      <td>0</td>\n",
       "      <td>1</td>\n",
       "      <td>1</td>\n",
       "    </tr>\n",
       "    <tr>\n",
       "      <th>2</th>\n",
       "      <td>0</td>\n",
       "      <td>0</td>\n",
       "      <td>1</td>\n",
       "      <td>0</td>\n",
       "      <td>0</td>\n",
       "    </tr>\n",
       "    <tr>\n",
       "      <th>3</th>\n",
       "      <td>0</td>\n",
       "      <td>0</td>\n",
       "      <td>1</td>\n",
       "      <td>0</td>\n",
       "      <td>1</td>\n",
       "    </tr>\n",
       "    <tr>\n",
       "      <th>4</th>\n",
       "      <td>0</td>\n",
       "      <td>1</td>\n",
       "      <td>1</td>\n",
       "      <td>1</td>\n",
       "      <td>1</td>\n",
       "    </tr>\n",
       "  </tbody>\n",
       "</table>\n",
       "</div>"
      ],
      "text/plain": [
       "   label_A  label_B  label_C  label_D  label_E\n",
       "0        0        1        0        1        0\n",
       "1        0        0        0        1        1\n",
       "2        0        0        1        0        0\n",
       "3        0        0        1        0        1\n",
       "4        0        1        1        1        1"
      ]
     },
     "execution_count": 311,
     "metadata": {},
     "output_type": "execute_result"
    }
   ],
   "source": [
    "# Get all columns that start with 'tags.'\n",
    "tag_columns = [col for col in df.columns if col.startswith('label')]\n",
    "print('tag_columns:', tag_columns)\n",
    "print('tag_columns count:', len(tag_columns))\n",
    "# Get the dataframe data in those columns\n",
    "tags_df = df[tag_columns]\n",
    "tags_df.head()"
   ]
  },
  {
   "cell_type": "code",
   "execution_count": 312,
   "metadata": {},
   "outputs": [
    {
     "data": {
      "text/plain": [
       "(100, 5)"
      ]
     },
     "execution_count": 312,
     "metadata": {},
     "output_type": "execute_result"
    }
   ],
   "source": [
    "y_data = tags_df.values\n",
    "y_data.shape"
   ]
  },
  {
   "cell_type": "code",
   "execution_count": 313,
   "metadata": {},
   "outputs": [
    {
     "data": {
      "text/plain": [
       "794"
      ]
     },
     "execution_count": 313,
     "metadata": {},
     "output_type": "execute_result"
    }
   ],
   "source": [
    "wordbag = set()\n",
    "statements = df['Text'].apply(str.lower)\n",
    "\n",
    "for st in statements:\n",
    "    wordbag.update(set(st.split()))\n",
    "len(wordbag)"
   ]
  },
  {
   "cell_type": "code",
   "execution_count": 314,
   "metadata": {},
   "outputs": [
    {
     "data": {
      "text/plain": [
       "array([[504, 142, 568, ...,   0,   0,   0],\n",
       "       [264, 787,  22, ...,   0,   0,   0],\n",
       "       [337, 147, 605, ...,   0,   0,   0],\n",
       "       ...,\n",
       "       [273, 610,  56, ...,   0,   0,   0],\n",
       "       [286, 600, 732, ...,   0,   0,   0],\n",
       "       [103, 658, 598, ...,   0,   0,   0]])"
      ]
     },
     "execution_count": 314,
     "metadata": {},
     "output_type": "execute_result"
    }
   ],
   "source": [
    "from tensorflow.keras.preprocessing.sequence import pad_sequences\n",
    "\n",
    "word2idx = {word: i + 1 for i, word in enumerate(wordbag)}\n",
    "\n",
    "x_data = [[word2idx[word] for word in st.split()] for st in statements]\n",
    "\n",
    "x_data = pad_sequences(x_data, padding='post')\n",
    "x_data"
   ]
  },
  {
   "cell_type": "code",
   "execution_count": 315,
   "metadata": {},
   "outputs": [
    {
     "data": {
      "text/plain": [
       "(100, 397)"
      ]
     },
     "execution_count": 315,
     "metadata": {},
     "output_type": "execute_result"
    }
   ],
   "source": [
    "x_data.shape"
   ]
  },
  {
   "cell_type": "code",
   "execution_count": 316,
   "metadata": {},
   "outputs": [],
   "source": [
    "from sklearn.model_selection import train_test_split\n",
    "x_train, x_test, y_train, y_test = train_test_split(x_data, y_data, train_size=None, test_size=0.2, random_state=24)"
   ]
  },
  {
   "cell_type": "code",
   "execution_count": 317,
   "metadata": {},
   "outputs": [
    {
     "data": {
      "text/plain": [
       "((80, 397), (80, 5), (20, 397), (20, 5))"
      ]
     },
     "execution_count": 317,
     "metadata": {},
     "output_type": "execute_result"
    }
   ],
   "source": [
    "x_train.shape, y_train.shape, x_test.shape, y_test.shape"
   ]
  },
  {
   "cell_type": "code",
   "execution_count": 379,
   "metadata": {},
   "outputs": [
    {
     "data": {
      "text/html": [
       "<pre style=\"white-space:pre;overflow-x:auto;line-height:normal;font-family:Menlo,'DejaVu Sans Mono',consolas,'Courier New',monospace\"><span style=\"font-weight: bold\">Model: \"sequential_55\"</span>\n",
       "</pre>\n"
      ],
      "text/plain": [
       "\u001b[1mModel: \"sequential_55\"\u001b[0m\n"
      ]
     },
     "metadata": {},
     "output_type": "display_data"
    },
    {
     "data": {
      "text/html": [
       "<pre style=\"white-space:pre;overflow-x:auto;line-height:normal;font-family:Menlo,'DejaVu Sans Mono',consolas,'Courier New',monospace\">┏━━━━━━━━━━━━━━━━━━━━━━━━━━━━━━━━━┳━━━━━━━━━━━━━━━━━━━━━━━━┳━━━━━━━━━━━━━━━┓\n",
       "┃<span style=\"font-weight: bold\"> Layer (type)                    </span>┃<span style=\"font-weight: bold\"> Output Shape           </span>┃<span style=\"font-weight: bold\">       Param # </span>┃\n",
       "┡━━━━━━━━━━━━━━━━━━━━━━━━━━━━━━━━━╇━━━━━━━━━━━━━━━━━━━━━━━━╇━━━━━━━━━━━━━━━┩\n",
       "│ embedding_55 (<span style=\"color: #0087ff; text-decoration-color: #0087ff\">Embedding</span>)        │ (<span style=\"color: #00d7ff; text-decoration-color: #00d7ff\">None</span>, <span style=\"color: #00af00; text-decoration-color: #00af00\">397</span>, <span style=\"color: #00af00; text-decoration-color: #00af00\">1000</span>)      │       <span style=\"color: #00af00; text-decoration-color: #00af00\">795,000</span> │\n",
       "├─────────────────────────────────┼────────────────────────┼───────────────┤\n",
       "│ conv1d_66 (<span style=\"color: #0087ff; text-decoration-color: #0087ff\">Conv1D</span>)              │ (<span style=\"color: #00d7ff; text-decoration-color: #00d7ff\">None</span>, <span style=\"color: #00af00; text-decoration-color: #00af00\">397</span>, <span style=\"color: #00af00; text-decoration-color: #00af00\">32</span>)        │       <span style=\"color: #00af00; text-decoration-color: #00af00\">160,032</span> │\n",
       "├─────────────────────────────────┼────────────────────────┼───────────────┤\n",
       "│ max_pooling1d_65 (<span style=\"color: #0087ff; text-decoration-color: #0087ff\">MaxPooling1D</span>) │ (<span style=\"color: #00d7ff; text-decoration-color: #00d7ff\">None</span>, <span style=\"color: #00af00; text-decoration-color: #00af00\">79</span>, <span style=\"color: #00af00; text-decoration-color: #00af00\">32</span>)         │             <span style=\"color: #00af00; text-decoration-color: #00af00\">0</span> │\n",
       "├─────────────────────────────────┼────────────────────────┼───────────────┤\n",
       "│ bidirectional_57                │ (<span style=\"color: #00d7ff; text-decoration-color: #00d7ff\">None</span>, <span style=\"color: #00af00; text-decoration-color: #00af00\">79</span>, <span style=\"color: #00af00; text-decoration-color: #00af00\">512</span>)        │       <span style=\"color: #00af00; text-decoration-color: #00af00\">591,872</span> │\n",
       "│ (<span style=\"color: #0087ff; text-decoration-color: #0087ff\">Bidirectional</span>)                 │                        │               │\n",
       "├─────────────────────────────────┼────────────────────────┼───────────────┤\n",
       "│ dropout_60 (<span style=\"color: #0087ff; text-decoration-color: #0087ff\">Dropout</span>)            │ (<span style=\"color: #00d7ff; text-decoration-color: #00d7ff\">None</span>, <span style=\"color: #00af00; text-decoration-color: #00af00\">79</span>, <span style=\"color: #00af00; text-decoration-color: #00af00\">512</span>)        │             <span style=\"color: #00af00; text-decoration-color: #00af00\">0</span> │\n",
       "├─────────────────────────────────┼────────────────────────┼───────────────┤\n",
       "│ conv1d_67 (<span style=\"color: #0087ff; text-decoration-color: #0087ff\">Conv1D</span>)              │ (<span style=\"color: #00d7ff; text-decoration-color: #00d7ff\">None</span>, <span style=\"color: #00af00; text-decoration-color: #00af00\">79</span>, <span style=\"color: #00af00; text-decoration-color: #00af00\">16</span>)         │        <span style=\"color: #00af00; text-decoration-color: #00af00\">40,976</span> │\n",
       "├─────────────────────────────────┼────────────────────────┼───────────────┤\n",
       "│ max_pooling1d_66 (<span style=\"color: #0087ff; text-decoration-color: #0087ff\">MaxPooling1D</span>) │ (<span style=\"color: #00d7ff; text-decoration-color: #00d7ff\">None</span>, <span style=\"color: #00af00; text-decoration-color: #00af00\">15</span>, <span style=\"color: #00af00; text-decoration-color: #00af00\">16</span>)         │             <span style=\"color: #00af00; text-decoration-color: #00af00\">0</span> │\n",
       "├─────────────────────────────────┼────────────────────────┼───────────────┤\n",
       "│ bidirectional_58                │ (<span style=\"color: #00d7ff; text-decoration-color: #00d7ff\">None</span>, <span style=\"color: #00af00; text-decoration-color: #00af00\">15</span>, <span style=\"color: #00af00; text-decoration-color: #00af00\">256</span>)        │       <span style=\"color: #00af00; text-decoration-color: #00af00\">148,480</span> │\n",
       "│ (<span style=\"color: #0087ff; text-decoration-color: #0087ff\">Bidirectional</span>)                 │                        │               │\n",
       "├─────────────────────────────────┼────────────────────────┼───────────────┤\n",
       "│ dropout_61 (<span style=\"color: #0087ff; text-decoration-color: #0087ff\">Dropout</span>)            │ (<span style=\"color: #00d7ff; text-decoration-color: #00d7ff\">None</span>, <span style=\"color: #00af00; text-decoration-color: #00af00\">15</span>, <span style=\"color: #00af00; text-decoration-color: #00af00\">256</span>)        │             <span style=\"color: #00af00; text-decoration-color: #00af00\">0</span> │\n",
       "├─────────────────────────────────┼────────────────────────┼───────────────┤\n",
       "│ bidirectional_59                │ (<span style=\"color: #00d7ff; text-decoration-color: #00d7ff\">None</span>, <span style=\"color: #00af00; text-decoration-color: #00af00\">128</span>)            │       <span style=\"color: #00af00; text-decoration-color: #00af00\">164,352</span> │\n",
       "│ (<span style=\"color: #0087ff; text-decoration-color: #0087ff\">Bidirectional</span>)                 │                        │               │\n",
       "├─────────────────────────────────┼────────────────────────┼───────────────┤\n",
       "│ dense_110 (<span style=\"color: #0087ff; text-decoration-color: #0087ff\">Dense</span>)               │ (<span style=\"color: #00d7ff; text-decoration-color: #00d7ff\">None</span>, <span style=\"color: #00af00; text-decoration-color: #00af00\">5</span>)              │           <span style=\"color: #00af00; text-decoration-color: #00af00\">645</span> │\n",
       "└─────────────────────────────────┴────────────────────────┴───────────────┘\n",
       "</pre>\n"
      ],
      "text/plain": [
       "┏━━━━━━━━━━━━━━━━━━━━━━━━━━━━━━━━━┳━━━━━━━━━━━━━━━━━━━━━━━━┳━━━━━━━━━━━━━━━┓\n",
       "┃\u001b[1m \u001b[0m\u001b[1mLayer (type)                   \u001b[0m\u001b[1m \u001b[0m┃\u001b[1m \u001b[0m\u001b[1mOutput Shape          \u001b[0m\u001b[1m \u001b[0m┃\u001b[1m \u001b[0m\u001b[1m      Param #\u001b[0m\u001b[1m \u001b[0m┃\n",
       "┡━━━━━━━━━━━━━━━━━━━━━━━━━━━━━━━━━╇━━━━━━━━━━━━━━━━━━━━━━━━╇━━━━━━━━━━━━━━━┩\n",
       "│ embedding_55 (\u001b[38;5;33mEmbedding\u001b[0m)        │ (\u001b[38;5;45mNone\u001b[0m, \u001b[38;5;34m397\u001b[0m, \u001b[38;5;34m1000\u001b[0m)      │       \u001b[38;5;34m795,000\u001b[0m │\n",
       "├─────────────────────────────────┼────────────────────────┼───────────────┤\n",
       "│ conv1d_66 (\u001b[38;5;33mConv1D\u001b[0m)              │ (\u001b[38;5;45mNone\u001b[0m, \u001b[38;5;34m397\u001b[0m, \u001b[38;5;34m32\u001b[0m)        │       \u001b[38;5;34m160,032\u001b[0m │\n",
       "├─────────────────────────────────┼────────────────────────┼───────────────┤\n",
       "│ max_pooling1d_65 (\u001b[38;5;33mMaxPooling1D\u001b[0m) │ (\u001b[38;5;45mNone\u001b[0m, \u001b[38;5;34m79\u001b[0m, \u001b[38;5;34m32\u001b[0m)         │             \u001b[38;5;34m0\u001b[0m │\n",
       "├─────────────────────────────────┼────────────────────────┼───────────────┤\n",
       "│ bidirectional_57                │ (\u001b[38;5;45mNone\u001b[0m, \u001b[38;5;34m79\u001b[0m, \u001b[38;5;34m512\u001b[0m)        │       \u001b[38;5;34m591,872\u001b[0m │\n",
       "│ (\u001b[38;5;33mBidirectional\u001b[0m)                 │                        │               │\n",
       "├─────────────────────────────────┼────────────────────────┼───────────────┤\n",
       "│ dropout_60 (\u001b[38;5;33mDropout\u001b[0m)            │ (\u001b[38;5;45mNone\u001b[0m, \u001b[38;5;34m79\u001b[0m, \u001b[38;5;34m512\u001b[0m)        │             \u001b[38;5;34m0\u001b[0m │\n",
       "├─────────────────────────────────┼────────────────────────┼───────────────┤\n",
       "│ conv1d_67 (\u001b[38;5;33mConv1D\u001b[0m)              │ (\u001b[38;5;45mNone\u001b[0m, \u001b[38;5;34m79\u001b[0m, \u001b[38;5;34m16\u001b[0m)         │        \u001b[38;5;34m40,976\u001b[0m │\n",
       "├─────────────────────────────────┼────────────────────────┼───────────────┤\n",
       "│ max_pooling1d_66 (\u001b[38;5;33mMaxPooling1D\u001b[0m) │ (\u001b[38;5;45mNone\u001b[0m, \u001b[38;5;34m15\u001b[0m, \u001b[38;5;34m16\u001b[0m)         │             \u001b[38;5;34m0\u001b[0m │\n",
       "├─────────────────────────────────┼────────────────────────┼───────────────┤\n",
       "│ bidirectional_58                │ (\u001b[38;5;45mNone\u001b[0m, \u001b[38;5;34m15\u001b[0m, \u001b[38;5;34m256\u001b[0m)        │       \u001b[38;5;34m148,480\u001b[0m │\n",
       "│ (\u001b[38;5;33mBidirectional\u001b[0m)                 │                        │               │\n",
       "├─────────────────────────────────┼────────────────────────┼───────────────┤\n",
       "│ dropout_61 (\u001b[38;5;33mDropout\u001b[0m)            │ (\u001b[38;5;45mNone\u001b[0m, \u001b[38;5;34m15\u001b[0m, \u001b[38;5;34m256\u001b[0m)        │             \u001b[38;5;34m0\u001b[0m │\n",
       "├─────────────────────────────────┼────────────────────────┼───────────────┤\n",
       "│ bidirectional_59                │ (\u001b[38;5;45mNone\u001b[0m, \u001b[38;5;34m128\u001b[0m)            │       \u001b[38;5;34m164,352\u001b[0m │\n",
       "│ (\u001b[38;5;33mBidirectional\u001b[0m)                 │                        │               │\n",
       "├─────────────────────────────────┼────────────────────────┼───────────────┤\n",
       "│ dense_110 (\u001b[38;5;33mDense\u001b[0m)               │ (\u001b[38;5;45mNone\u001b[0m, \u001b[38;5;34m5\u001b[0m)              │           \u001b[38;5;34m645\u001b[0m │\n",
       "└─────────────────────────────────┴────────────────────────┴───────────────┘\n"
      ]
     },
     "metadata": {},
     "output_type": "display_data"
    },
    {
     "data": {
      "text/html": [
       "<pre style=\"white-space:pre;overflow-x:auto;line-height:normal;font-family:Menlo,'DejaVu Sans Mono',consolas,'Courier New',monospace\"><span style=\"font-weight: bold\"> Total params: </span><span style=\"color: #00af00; text-decoration-color: #00af00\">1,901,357</span> (7.25 MB)\n",
       "</pre>\n"
      ],
      "text/plain": [
       "\u001b[1m Total params: \u001b[0m\u001b[38;5;34m1,901,357\u001b[0m (7.25 MB)\n"
      ]
     },
     "metadata": {},
     "output_type": "display_data"
    },
    {
     "data": {
      "text/html": [
       "<pre style=\"white-space:pre;overflow-x:auto;line-height:normal;font-family:Menlo,'DejaVu Sans Mono',consolas,'Courier New',monospace\"><span style=\"font-weight: bold\"> Trainable params: </span><span style=\"color: #00af00; text-decoration-color: #00af00\">1,901,357</span> (7.25 MB)\n",
       "</pre>\n"
      ],
      "text/plain": [
       "\u001b[1m Trainable params: \u001b[0m\u001b[38;5;34m1,901,357\u001b[0m (7.25 MB)\n"
      ]
     },
     "metadata": {},
     "output_type": "display_data"
    },
    {
     "data": {
      "text/html": [
       "<pre style=\"white-space:pre;overflow-x:auto;line-height:normal;font-family:Menlo,'DejaVu Sans Mono',consolas,'Courier New',monospace\"><span style=\"font-weight: bold\"> Non-trainable params: </span><span style=\"color: #00af00; text-decoration-color: #00af00\">0</span> (0.00 B)\n",
       "</pre>\n"
      ],
      "text/plain": [
       "\u001b[1m Non-trainable params: \u001b[0m\u001b[38;5;34m0\u001b[0m (0.00 B)\n"
      ]
     },
     "metadata": {},
     "output_type": "display_data"
    }
   ],
   "source": [
    "from tensorflow.keras.models import Sequential\n",
    "from tensorflow.keras.layers import Embedding, Bidirectional, LSTM, Dense, SimpleRNN, Dropout, GRU, Conv1D, MaxPooling1D\n",
    "from tensorflow.keras.optimizers import Adam\n",
    "\n",
    "output_size = y_train.shape[1]\n",
    "embedding_size = 1000\n",
    "\n",
    "model = Sequential()\n",
    "model.add(Embedding(len(wordbag)+1, embedding_size, input_shape=(x_train.shape[1],)))\n",
    "model.add(Conv1D(32, 5, strides=1, activation='relu', padding='same'))\n",
    "model.add(MaxPooling1D(5))\n",
    "# model.add(Conv1D(64, 5, activation='relu', padding='same'))\n",
    "# model.add(MaxPooling1D(3))\n",
    "model.add(Bidirectional(LSTM(256, recurrent_dropout=0.5, return_sequences=True)))\n",
    "model.add(Dropout(0.5))\n",
    "model.add(Conv1D(16, 5, activation='relu', padding='same'))\n",
    "model.add(MaxPooling1D(5))\n",
    "model.add(Bidirectional(LSTM(128, recurrent_dropout=0.5, return_sequences=True)))\n",
    "model.add(Dropout(0.5))\n",
    "model.add(Bidirectional(LSTM(64, recurrent_dropout=0.5)))\n",
    "# model.add(Bidirectional(LSTM(64, dropout=0.5, recurrent_dropout=0.5, return_sequences=True)))\n",
    "# model.add(LSTM(200))\n",
    "\n",
    "# model.add(Dense(32))\n",
    "# model.add(Dropout(0.4))\n",
    "model.add(Dense(output_size, activation='sigmoid'))\n",
    "\n",
    "# optimizer = Adam(learning_rate=0.001)\n",
    "model.compile(loss='binary_crossentropy',\n",
    "              optimizer='adam', metrics=['binary_accuracy'])\n",
    "model.summary()"
   ]
  },
  {
   "cell_type": "code",
   "execution_count": 380,
   "metadata": {},
   "outputs": [
    {
     "name": "stdout",
     "output_type": "stream",
     "text": [
      "Epoch 1/50\n",
      "3/3 - 16s - 5s/step - binary_accuracy: 0.5225 - loss: 0.6939 - val_binary_accuracy: 0.5200 - val_loss: 0.6914\n",
      "Epoch 2/50\n",
      "3/3 - 2s - 507ms/step - binary_accuracy: 0.5200 - loss: 0.6925 - val_binary_accuracy: 0.5200 - val_loss: 0.6894\n",
      "Epoch 3/50\n",
      "3/3 - 2s - 542ms/step - binary_accuracy: 0.5200 - loss: 0.6944 - val_binary_accuracy: 0.5200 - val_loss: 0.6891\n",
      "Epoch 4/50\n",
      "3/3 - 2s - 617ms/step - binary_accuracy: 0.5225 - loss: 0.6911 - val_binary_accuracy: 0.5300 - val_loss: 0.6913\n",
      "Epoch 5/50\n",
      "3/3 - 2s - 573ms/step - binary_accuracy: 0.5600 - loss: 0.6898 - val_binary_accuracy: 0.5000 - val_loss: 0.6915\n",
      "Epoch 6/50\n",
      "3/3 - 2s - 590ms/step - binary_accuracy: 0.5500 - loss: 0.6902 - val_binary_accuracy: 0.5000 - val_loss: 0.6915\n",
      "Epoch 7/50\n",
      "3/3 - 2s - 636ms/step - binary_accuracy: 0.5550 - loss: 0.6864 - val_binary_accuracy: 0.5400 - val_loss: 0.6910\n",
      "Epoch 8/50\n",
      "3/3 - 2s - 625ms/step - binary_accuracy: 0.6000 - loss: 0.6814 - val_binary_accuracy: 0.5500 - val_loss: 0.6914\n",
      "Epoch 9/50\n",
      "3/3 - 2s - 776ms/step - binary_accuracy: 0.6000 - loss: 0.6577 - val_binary_accuracy: 0.5500 - val_loss: 0.7126\n",
      "Epoch 10/50\n",
      "3/3 - 2s - 699ms/step - binary_accuracy: 0.6425 - loss: 0.6372 - val_binary_accuracy: 0.4500 - val_loss: 0.7983\n",
      "Epoch 11/50\n",
      "3/3 - 2s - 702ms/step - binary_accuracy: 0.6000 - loss: 0.6755 - val_binary_accuracy: 0.4500 - val_loss: 0.7160\n",
      "Epoch 12/50\n",
      "3/3 - 2s - 684ms/step - binary_accuracy: 0.6300 - loss: 0.6450 - val_binary_accuracy: 0.4800 - val_loss: 0.8055\n",
      "Epoch 13/50\n",
      "3/3 - 2s - 642ms/step - binary_accuracy: 0.6450 - loss: 0.6417 - val_binary_accuracy: 0.4800 - val_loss: 0.7068\n",
      "Epoch 14/50\n",
      "3/3 - 2s - 596ms/step - binary_accuracy: 0.6350 - loss: 0.6224 - val_binary_accuracy: 0.5600 - val_loss: 0.7220\n",
      "Epoch 15/50\n",
      "3/3 - 2s - 660ms/step - binary_accuracy: 0.6375 - loss: 0.6198 - val_binary_accuracy: 0.4500 - val_loss: 0.7274\n",
      "Epoch 16/50\n",
      "3/3 - 2s - 731ms/step - binary_accuracy: 0.6800 - loss: 0.5985 - val_binary_accuracy: 0.5000 - val_loss: 0.7498\n",
      "Epoch 17/50\n",
      "3/3 - 2s - 592ms/step - binary_accuracy: 0.6675 - loss: 0.5883 - val_binary_accuracy: 0.5100 - val_loss: 0.7890\n",
      "Epoch 18/50\n",
      "3/3 - 2s - 557ms/step - binary_accuracy: 0.6850 - loss: 0.5785 - val_binary_accuracy: 0.4600 - val_loss: 0.7610\n",
      "Epoch 19/50\n",
      "3/3 - 2s - 640ms/step - binary_accuracy: 0.6750 - loss: 0.5770 - val_binary_accuracy: 0.5300 - val_loss: 0.8311\n",
      "Epoch 20/50\n",
      "3/3 - 2s - 540ms/step - binary_accuracy: 0.7125 - loss: 0.5692 - val_binary_accuracy: 0.4900 - val_loss: 0.7049\n",
      "Epoch 21/50\n",
      "3/3 - 2s - 563ms/step - binary_accuracy: 0.7300 - loss: 0.5404 - val_binary_accuracy: 0.5200 - val_loss: 0.7518\n",
      "Epoch 22/50\n",
      "3/3 - 2s - 788ms/step - binary_accuracy: 0.7700 - loss: 0.5041 - val_binary_accuracy: 0.5600 - val_loss: 0.7061\n",
      "Epoch 23/50\n",
      "3/3 - 2s - 547ms/step - binary_accuracy: 0.7775 - loss: 0.4888 - val_binary_accuracy: 0.4800 - val_loss: 0.8500\n",
      "Epoch 24/50\n",
      "3/3 - 2s - 536ms/step - binary_accuracy: 0.7600 - loss: 0.4871 - val_binary_accuracy: 0.5500 - val_loss: 0.7595\n",
      "Epoch 25/50\n",
      "3/3 - 2s - 550ms/step - binary_accuracy: 0.7675 - loss: 0.4702 - val_binary_accuracy: 0.5500 - val_loss: 0.7603\n",
      "Epoch 26/50\n",
      "3/3 - 2s - 536ms/step - binary_accuracy: 0.7675 - loss: 0.4659 - val_binary_accuracy: 0.5500 - val_loss: 0.8364\n",
      "Epoch 27/50\n",
      "3/3 - 1s - 497ms/step - binary_accuracy: 0.7775 - loss: 0.4503 - val_binary_accuracy: 0.5600 - val_loss: 0.7409\n",
      "Epoch 28/50\n",
      "3/3 - 2s - 597ms/step - binary_accuracy: 0.8100 - loss: 0.4172 - val_binary_accuracy: 0.5600 - val_loss: 0.7640\n",
      "Epoch 29/50\n",
      "3/3 - 2s - 509ms/step - binary_accuracy: 0.7775 - loss: 0.4181 - val_binary_accuracy: 0.5300 - val_loss: 0.7637\n",
      "Epoch 30/50\n",
      "3/3 - 2s - 510ms/step - binary_accuracy: 0.8150 - loss: 0.3978 - val_binary_accuracy: 0.5100 - val_loss: 0.8267\n",
      "Epoch 31/50\n",
      "3/3 - 2s - 577ms/step - binary_accuracy: 0.8150 - loss: 0.3986 - val_binary_accuracy: 0.5100 - val_loss: 0.8281\n",
      "Epoch 32/50\n",
      "3/3 - 2s - 565ms/step - binary_accuracy: 0.8275 - loss: 0.3608 - val_binary_accuracy: 0.5700 - val_loss: 0.8146\n",
      "Epoch 33/50\n",
      "3/3 - 2s - 536ms/step - binary_accuracy: 0.8450 - loss: 0.3438 - val_binary_accuracy: 0.5500 - val_loss: 0.8517\n",
      "Epoch 34/50\n",
      "3/3 - 2s - 507ms/step - binary_accuracy: 0.8475 - loss: 0.3267 - val_binary_accuracy: 0.5100 - val_loss: 0.8707\n",
      "Epoch 35/50\n",
      "3/3 - 2s - 592ms/step - binary_accuracy: 0.8550 - loss: 0.3200 - val_binary_accuracy: 0.5000 - val_loss: 0.9268\n",
      "Epoch 36/50\n",
      "3/3 - 2s - 527ms/step - binary_accuracy: 0.8750 - loss: 0.2994 - val_binary_accuracy: 0.5300 - val_loss: 0.8968\n",
      "Epoch 37/50\n",
      "3/3 - 1s - 491ms/step - binary_accuracy: 0.8750 - loss: 0.2874 - val_binary_accuracy: 0.4700 - val_loss: 0.9137\n",
      "Epoch 38/50\n",
      "3/3 - 2s - 683ms/step - binary_accuracy: 0.8775 - loss: 0.2919 - val_binary_accuracy: 0.5400 - val_loss: 0.9319\n",
      "Epoch 39/50\n",
      "3/3 - 2s - 610ms/step - binary_accuracy: 0.9175 - loss: 0.2623 - val_binary_accuracy: 0.5700 - val_loss: 1.0404\n",
      "Epoch 40/50\n",
      "3/3 - 2s - 557ms/step - binary_accuracy: 0.9150 - loss: 0.2407 - val_binary_accuracy: 0.5400 - val_loss: 1.0724\n",
      "Epoch 41/50\n",
      "3/3 - 2s - 526ms/step - binary_accuracy: 0.9275 - loss: 0.2360 - val_binary_accuracy: 0.5200 - val_loss: 1.0497\n",
      "Epoch 42/50\n",
      "3/3 - 2s - 552ms/step - binary_accuracy: 0.9300 - loss: 0.2137 - val_binary_accuracy: 0.5500 - val_loss: 1.1159\n",
      "Epoch 43/50\n",
      "3/3 - 2s - 534ms/step - binary_accuracy: 0.9550 - loss: 0.1894 - val_binary_accuracy: 0.5000 - val_loss: 1.2456\n",
      "Epoch 44/50\n",
      "3/3 - 1s - 494ms/step - binary_accuracy: 0.9550 - loss: 0.1844 - val_binary_accuracy: 0.5200 - val_loss: 1.2761\n",
      "Epoch 45/50\n",
      "3/3 - 2s - 607ms/step - binary_accuracy: 0.9650 - loss: 0.1728 - val_binary_accuracy: 0.4900 - val_loss: 1.3049\n",
      "Epoch 46/50\n",
      "3/3 - 2s - 508ms/step - binary_accuracy: 0.9500 - loss: 0.1588 - val_binary_accuracy: 0.5100 - val_loss: 1.4473\n",
      "Epoch 47/50\n",
      "3/3 - 2s - 505ms/step - binary_accuracy: 0.9425 - loss: 0.1608 - val_binary_accuracy: 0.4900 - val_loss: 1.3852\n",
      "Epoch 48/50\n",
      "3/3 - 2s - 577ms/step - binary_accuracy: 0.9675 - loss: 0.1351 - val_binary_accuracy: 0.4700 - val_loss: 1.5182\n",
      "Epoch 49/50\n",
      "3/3 - 2s - 543ms/step - binary_accuracy: 0.9625 - loss: 0.1368 - val_binary_accuracy: 0.5400 - val_loss: 1.5009\n",
      "Epoch 50/50\n",
      "3/3 - 2s - 537ms/step - binary_accuracy: 0.9625 - loss: 0.1206 - val_binary_accuracy: 0.5300 - val_loss: 1.5786\n"
     ]
    }
   ],
   "source": [
    "history=model.fit(x_train,y_train,epochs=50,verbose=2, validation_data=(x_test, y_test))"
   ]
  },
  {
   "cell_type": "code",
   "execution_count": 381,
   "metadata": {},
   "outputs": [
    {
     "data": {
      "text/plain": [
       "Text(0, 0.5, 'Loss')"
      ]
     },
     "execution_count": 381,
     "metadata": {},
     "output_type": "execute_result"
    },
    {
     "data": {
      "image/png": "[encoded data removed]",
      "text/plain": [
       "<Figure size 640x480 with 1 Axes>"
      ]
     },
     "metadata": {},
     "output_type": "display_data"
    }
   ],
   "source": [
    "import matplotlib.pyplot as plt\n",
    "\n",
    "x_epochs = [i for i in range(history.params['epochs'])]\n",
    "plt.plot(x_epochs, history.history['loss'], x_epochs, history.history['val_loss'])\n",
    "plt.legend(['training set', 'validation set'])\n",
    "plt.xlabel('Epochs')\n",
    "plt.ylabel('Loss')"
   ]
  },
  {
   "cell_type": "code",
   "execution_count": 382,
   "metadata": {},
   "outputs": [
    {
     "data": {
      "text/plain": [
       "Text(0, 0.5, 'Binary Accuracy')"
      ]
     },
     "execution_count": 382,
     "metadata": {},
     "output_type": "execute_result"
    },
    {
     "data": {
      "image/png": "[encoded data removed]",
      "text/plain": [
       "<Figure size 640x480 with 1 Axes>"
      ]
     },
     "metadata": {},
     "output_type": "display_data"
    }
   ],
   "source": [
    "x_epochs = [i for i in range(history.params['epochs'])]\n",
    "plt.plot(x_epochs, history.history['binary_accuracy'], x_epochs, history.history['val_binary_accuracy'])\n",
    "plt.legend(['training set', 'validation set'])\n",
    "plt.xlabel('Epochs')\n",
    "plt.ylabel('Binary Accuracy')"
   ]
  },
  {
   "cell_type": "code",
   "execution_count": 383,
   "metadata": {},
   "outputs": [],
   "source": [
    "from sklearn.metrics import accuracy_score, precision_score, recall_score, f1_score, hamming_loss\n",
    "\n",
    "def print_metrics(y_true, y_pred):\n",
    "    print('Accuracy:', accuracy_score(y_true, y_pred))\n",
    "    print('Precision:', precision_score(y_true, y_pred, average='micro', zero_division=0))\n",
    "    print('Recall:', recall_score(y_true, y_pred, average='micro'))\n",
    "    print('F1 Score:', f1_score(y_true, y_pred, average='micro'))\n",
    "    print('Hamming Loss:', hamming_loss(y_true, y_pred))\n"
   ]
  },
  {
   "cell_type": "code",
   "execution_count": 384,
   "metadata": {},
   "outputs": [
    {
     "name": "stdout",
     "output_type": "stream",
     "text": [
      "\u001b[1m3/3\u001b[0m \u001b[32m━━━━━━━━━━━━━━━━━━━━\u001b[0m\u001b[37m\u001b[0m \u001b[1m3s\u001b[0m 847ms/step\n",
      "Accuracy: 0.9375\n",
      "Precision: 0.9842931937172775\n",
      "Recall: 0.9842931937172775\n",
      "F1 Score: 0.9842931937172775\n",
      "Hamming Loss: 0.015\n"
     ]
    }
   ],
   "source": [
    "y_train_pred = model.predict(x_train)\n",
    "y_train_pred = np.where(y_train_pred > 0.5, 1, 0)\n",
    "print_metrics(y_train, y_train_pred)\n"
   ]
  },
  {
   "cell_type": "code",
   "execution_count": 385,
   "metadata": {},
   "outputs": [
    {
     "name": "stdout",
     "output_type": "stream",
     "text": [
      "\u001b[1m1/1\u001b[0m \u001b[32m━━━━━━━━━━━━━━━━━━━━\u001b[0m\u001b[37m\u001b[0m \u001b[1m0s\u001b[0m 116ms/step\n",
      "Accuracy: 0.0\n",
      "Precision: 0.4528301886792453\n",
      "Recall: 0.5714285714285714\n",
      "F1 Score: 0.5052631578947369\n",
      "Hamming Loss: 0.47\n"
     ]
    }
   ],
   "source": [
    "y_test_pred = model.predict(x_test)\n",
    "y_test_pred = np.where(y_test_pred > 0.5, 1, 0)\n",
    "print_metrics(y_test, y_test_pred)"
   ]
  }
 ],
 "metadata": {
  "kernelspec": {
   "display_name": ".venv",
   "language": "python",
   "name": "python3"
  },
  "language_info": {
   "codemirror_mode": {
    "name": "ipython",
    "version": 3
   },
   "file_extension": ".py",
   "mimetype": "text/x-python",
   "name": "python",
   "nbconvert_exporter": "python",
   "pygments_lexer": "ipython3",
   "version": "3.12.4"
  }
 },
 "nbformat": 4,
 "nbformat_minor": 2
}
